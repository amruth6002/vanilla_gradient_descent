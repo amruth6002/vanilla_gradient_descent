{
 "cells": [
  {
   "cell_type": "code",
   "execution_count": 26,
   "id": "b33b3647",
   "metadata": {},
   "outputs": [],
   "source": [
    "import numpy as np\n",
    "import matplotlib.pyplot as plt\n",
    "import time"
   ]
  },
  {
   "cell_type": "code",
   "execution_count": 27,
   "id": "759aebc3",
   "metadata": {},
   "outputs": [],
   "source": [
    "def generate_data(num_samples):\n",
    "    np.random.seed(42)\n",
    "    x=np.random.rand(num_samples,1)\n",
    "    y=3*x+7+np.random.randn(num_samples,1)\n",
    "    return x,y"
   ]
  },
  {
   "cell_type": "code",
   "execution_count": 28,
   "id": "47cb125b",
   "metadata": {},
   "outputs": [],
   "source": [
    "def compute_loss(y_true,y_pred):\n",
    "    return np.mean((y_true-y_pred)**2)"
   ]
  },
  {
   "cell_type": "code",
   "execution_count": 29,
   "id": "449bcddc",
   "metadata": {},
   "outputs": [],
   "source": [
    "def batch_gradient_descent(x,y,epochs,lr=0.01):\n",
    "    m,n =x.shape\n",
    "    x=np.c_[np.ones((m,1)),x]\n",
    "    theta=np.random.randn(n+1,1)\n",
    "    losses=[]\n",
    "\n",
    "    for epochs in range(epochs):\n",
    "        predictions=x.dot(theta)\n",
    "        errors=predictions-y\n",
    "        gradients=2/m * x.T.dot(errors)\n",
    "        theta-=lr*gradients\n",
    "        loss=compute_loss(y,predictions)\n",
    "        losses.append(loss)\n",
    "    \n",
    "    return theta,losses"
   ]
  },
  {
   "cell_type": "code",
   "execution_count": 30,
   "id": "cfd68622",
   "metadata": {},
   "outputs": [],
   "source": [
    "def stochastic_gradient_descent(x,y,epochs,lr=0.01):\n",
    "    m,n =x.shape\n",
    "    x=np.c_[np.ones((m,1)),x]\n",
    "    theta=np.random.randn(n+1,1)\n",
    "    losses=[]\n",
    "\n",
    "    for epochs in range(epochs):\n",
    "        random_index=np.random.randint(m)\n",
    "        xi=x[random_index:random_index+1]\n",
    "        yi=y[random_index:random_index+1]\n",
    "        predictions=xi.dot(theta)\n",
    "        errors=predictions-yi\n",
    "        gradients=2*xi.T.dot(errors)\n",
    "        theta-=lr*gradients\n",
    "        loss=compute_loss(yi,predictions)\n",
    "        losses.append(loss)\n",
    "    \n",
    "    return theta,losses"
   ]
  },
  {
   "cell_type": "code",
   "execution_count": 31,
   "id": "f0b66e22",
   "metadata": {},
   "outputs": [],
   "source": [
    "small_dataset_size=1000\n",
    "large_dataset_size = 100000000\n",
    "\n",
    "x_small,y_small=generate_data(small_dataset_size)\n",
    "x_large,y_large=generate_data(large_dataset_size)"
   ]
  },
  {
   "cell_type": "code",
   "execution_count": 32,
   "id": "1fb9a330",
   "metadata": {},
   "outputs": [],
   "source": [
    "#for small dataset\n",
    "\n",
    "start_time=time.time()\n",
    "theta_bgd_small,losses_bgd_small=batch_gradient_descent(x_small,y_small,epochs=50)\n",
    "time_bgd_small=time.time()-start_time\n",
    "\n",
    "#for large dataset\n",
    "start_time=time.time()\n",
    "theta_bgd_large,losses_bgd_large = batch_gradient_descent(x_large,y_large,epochs=50)\n",
    "time_bgd_large=time.time()-start_time"
   ]
  },
  {
   "cell_type": "code",
   "execution_count": 33,
   "id": "68e44e5f",
   "metadata": {},
   "outputs": [],
   "source": [
    "# for small dataset\n",
    "\n",
    "start_time = time.time()\n",
    "theta_sgd_small, losses_sgd_small = stochastic_gradient_descent(\n",
    "    x_small, y_small, epochs=50)\n",
    "time_sgd_small = time.time()-start_time\n",
    "\n",
    "# for large dataset\n",
    "start_time = time.time()\n",
    "theta_sgd_large, losses_sgd_large = stochastic_gradient_descent(\n",
    "    x_large, y_large, epochs=50)\n",
    "time_sgd_large = time.time()-start_time"
   ]
  },
  {
   "cell_type": "code",
   "execution_count": 34,
   "id": "03fb3ec0",
   "metadata": {},
   "outputs": [
    {
     "name": "stdout",
     "output_type": "stream",
     "text": [
      "5.361641302395571\n",
      "10.231366709998154\n",
      "11.51242713402375\n",
      "9.86668133080251\n"
     ]
    }
   ],
   "source": [
    "print(losses_bgd_small[-1])\n",
    "print(losses_bgd_large[-1])\n",
    "print(losses_sgd_small[-1])\n",
    "print(losses_sgd_large[-1])"
   ]
  },
  {
   "cell_type": "code",
   "execution_count": null,
   "id": "be079cb5",
   "metadata": {},
   "outputs": [],
   "source": []
  },
  {
   "cell_type": "code",
   "execution_count": null,
   "id": "7f24c9af",
   "metadata": {},
   "outputs": [],
   "source": []
  },
  {
   "cell_type": "code",
   "execution_count": null,
   "id": "1426d660",
   "metadata": {},
   "outputs": [],
   "source": []
  },
  {
   "cell_type": "code",
   "execution_count": null,
   "id": "0b3f1c19",
   "metadata": {},
   "outputs": [],
   "source": []
  },
  {
   "cell_type": "code",
   "execution_count": null,
   "id": "17f7b4f0",
   "metadata": {},
   "outputs": [],
   "source": []
  }
 ],
 "metadata": {
  "kernelspec": {
   "display_name": ".venv",
   "language": "python",
   "name": "python3"
  },
  "language_info": {
   "codemirror_mode": {
    "name": "ipython",
    "version": 3
   },
   "file_extension": ".py",
   "mimetype": "text/x-python",
   "name": "python",
   "nbconvert_exporter": "python",
   "pygments_lexer": "ipython3",
   "version": "3.12.3"
  }
 },
 "nbformat": 4,
 "nbformat_minor": 5
}
